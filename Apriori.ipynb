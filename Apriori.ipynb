{
 "cells": [
  {
   "cell_type": "code",
   "execution_count": null,
   "metadata": {
    "collapsed": true,
    "deletable": true,
    "editable": true
   },
   "outputs": [],
   "source": [
    "import peewee\n",
    "from peewee import *\n",
    "import pandas as pd\n",
    "from mlxtend.preprocessing import OnehotTransactions\n",
    "from collections import defaultdict\n",
    "from sklearn import preprocessing\n",
    "from mlxtend.frequent_patterns import apriori\n",
    "from tabulate import tabulate"
   ]
  },
  {
   "cell_type": "code",
   "execution_count": 116,
   "metadata": {
    "collapsed": false,
    "deletable": true,
    "editable": true
   },
   "outputs": [
    {
     "name": "stdout",
     "output_type": "stream",
     "text": [
      "<pymysql.cursors.Cursor object at 0x7f0a52e33d30>\n"
     ]
    }
   ],
   "source": [
    "db=MySQLDatabase('Bakery',user='root',passwd='password')\n",
    "class BaseModel(peewee.Model):\n",
    "    class Meta:\n",
    "        database = db \n",
    "class employee(BaseModel):\n",
    "    Last=peewee.CharField()\n",
    "    First=peewee.CharField()\n",
    "    HireDate=peewee.DateField()\n",
    "    FireDate=peewee.DateField()\n",
    "    Position=peewee.DateField()\n",
    "    FullTime=peewee.DateField()\n",
    "    StoreNum=peewee.BigIntegerField()\n",
    "    EmpId=peewee.BigIntegerField()\n",
    "#     def attr(self):\n",
    "#         return list(self.Last, self.First,self.Position,self.FullTime,self.StoreNum,self.EmpId)\n",
    "    def __str__(self):\n",
    "        return \"({0}, {1}, {2} , {3}, {4}, {5})\".format(self.Last, self.First,self.Position,\n",
    "                                                        self.FullTime,self.StoreNum, self.EmpId)\n",
    "    \n",
    "class goods(BaseModel):\n",
    "    Id=peewee.BigIntegerField()\n",
    "    Flavor=peewee.CharField()\n",
    "    Food=peewee.CharField()\n",
    "    Price=peewee.FloatField()\n",
    "    Type=peewee.CharField()\n",
    "class item(BaseModel):    \n",
    "    Receipt=peewee.BigIntegerField()\n",
    "    Quantity=peewee.BigIntegerField()\n",
    "    Item=peewee.BigIntegerField()\n",
    "class location(BaseModel):\n",
    "    City=peewee.CharField()\n",
    "    State=peewee.CharField()\n",
    "    Zip=peewee.BigIntegerField()\n",
    "    Street=peewee.CharField()\n",
    "    StoreNum=peewee.BigIntegerField()\n",
    "class recepits(BaseModel):\n",
    "    ReceiptNumber=peewee.BigIntegerField()\n",
    "    SaleDate=peewee.DateField()\n",
    "    Weekend=peewee.CharField()\n",
    "    isCash=peewee.CharField()\n",
    "    EmpId=peewee.BigIntegerField()\n",
    "    StoreNum=peewee.BigIntegerField()\n",
    "db.connect()\n",
    "# db.get_tables()\n",
    "# employees=employee.select()\n",
    "allrows = db.execute_sql('Select * from employee,location,goods,items,receipts where employee.StoreNum=\\\n",
    "location.StoreNum and employee.StoreNum=receipts.StoreNum and receipts.ReceiptNumber=items.Receipt and items.Item=\\\n",
    "goods.Id limit 10')\n",
    "\n",
    "# save into a data frame having duplicated columns though, thereby rename is required, ie. to employee.StoreNum\n",
    "# vs location.StoreNum\n",
    "# use pandas for csv creation or just try ahead with spark\n",
    "# for row in allrows:\n",
    "#       print(employee)"
   ]
  },
  {
   "cell_type": "code",
   "execution_count": 58,
   "metadata": {
    "collapsed": false,
    "deletable": true,
    "editable": true
   },
   "outputs": [
    {
     "name": "stdout",
     "output_type": "stream",
     "text": [
      "/bin/sh: 1: Syntax error: word unexpected (expecting \")\")\r\n"
     ]
    }
   ],
   "source": [
    "%spark\n",
    "\n",
    "val prop = new java.util.Properties\n",
    "prop.setProperty(\"user\",\"root\")\n",
    "prop.setProperty(\"password\",\"password\")\n",
    "val url=\"jdbc:mysql://localhost:3306/Bakery\"\n",
    "\n",
    "val receipts=spark.sqlContext.read.jdbc(url,\"receipts\",prop)\n",
    "val items=spark.sqlContext.read.jdbc(url,\"items\",prop)\n",
    "val goods=spark.sqlContext.read.jdbc(url,\"goods\",prop)\n",
    "val location=spark.sqlContext.read.jdbc(url,\"location\",prop)\n",
    "val employee=spark.sqlContext.read.jdbc(url,\"employee\",prop)\n",
    "\n",
    "val joinedDF=employee.join(location,\"StoreNum\").join(receipts.drop(\"EmpId\"),\"StoreNum\").join(items,receipts(\"ReceiptNumber\")===items(\"Receipt\")).join(goods,items(\"Item\")===goods(\"Id\"))\n",
    "\n",
    "scala> joinedDF.printSchema()\n",
    "root\n",
    " |-- StoreNum: integer (nullable = true)\n",
    " |-- Last: string (nullable = true)\n",
    " |-- First: string (nullable = true)\n",
    " |-- HireDate: date (nullable = true)\n",
    " |-- FireDate: date (nullable = true)\n",
    " |-- Position: string (nullable = true)\n",
    " |-- FullTime: string (nullable = true)\n",
    " |-- EmpId: integer (nullable = false)\n",
    " |-- City: string (nullable = true)\n",
    " |-- State: string (nullable = true)\n",
    " |-- Zip: integer (nullable = true)\n",
    " |-- Street: string (nullable = true)\n",
    " |-- ReceiptNumber: integer (nullable = false)\n",
    " |-- SaleDate: date (nullable = true)\n",
    " |-- Weekend: string (nullable = true)\n",
    " |-- isCash: string (nullable = true)\n",
    " |-- Receipt: integer (nullable = false)\n",
    " |-- Quantity: integer (nullable = true)\n",
    " |-- Item: integer (nullable = false)\n",
    " |-- Id: integer (nullable = false)\n",
    " |-- Flavor: string (nullable = true)\n",
    " |-- Food: string (nullable = true)\n",
    " |-- Price: double (nullable = true)\n",
    " |-- Type: string (nullable = true)\n",
    "    \n",
    "joinedDF.coalesce(1).write.format(\"csv\").option(\"header\",\"true\").save(\"bakery.csv\")\n"
   ]
  },
  {
   "cell_type": "code",
   "execution_count": 237,
   "metadata": {
    "collapsed": false,
    "deletable": true,
    "editable": true,
    "scrolled": true
   },
   "outputs": [
    {
     "name": "stdout",
     "output_type": "stream",
     "text": [
      "StoreNum           int64\n",
      "Last              object\n",
      "First             object\n",
      "HireDate          object\n",
      "FireDate          object\n",
      "Position          object\n",
      "FullTime            bool\n",
      "EmpId              int64\n",
      "City              object\n",
      "State             object\n",
      "Zip                int64\n",
      "Street            object\n",
      "ReceiptNumber      int64\n",
      "SaleDate          object\n",
      "Weekend             bool\n",
      "isCash              bool\n",
      "Receipt            int64\n",
      "Quantity           int64\n",
      "Item               int64\n",
      "Id                 int64\n",
      "Flavor            object\n",
      "Food              object\n",
      "Price            float64\n",
      "Type              object\n",
      "dtype: object\n",
      "StoreNum                    14\n",
      "Last                    CRATCH\n",
      "First                   RODNEY\n",
      "HireDate            2000-01-03\n",
      "FireDate            2000-01-17\n",
      "Position               Manager\n",
      "FullTime                  True\n",
      "EmpId                       14\n",
      "City                   Seattle\n",
      "State                       WA\n",
      "Zip                      98111\n",
      "Street           550 Thomas St\n",
      "ReceiptNumber              243\n",
      "SaleDate            2000-01-22\n",
      "Weekend                   True\n",
      "isCash                   False\n",
      "Receipt                    243\n",
      "Quantity                     2\n",
      "Item                        31\n",
      "Id                          31\n",
      "Flavor                   Apple\n",
      "Food                 Croissant\n",
      "Price                     1.45\n",
      "Type                      Food\n",
      "Name: 1, dtype: object\n"
     ]
    },
    {
     "data": {
      "text/plain": [
       "Index(['StoreNum', 'EmpId', 'Zip', 'ReceiptNumber', 'Receipt', 'Quantity',\n",
       "       'Item', 'Id', 'Price'],\n",
       "      dtype='object')"
      ]
     },
     "execution_count": 237,
     "metadata": {},
     "output_type": "execute_result"
    }
   ],
   "source": [
    "df=pd.read_csv('./bakery.csv/part-00000-cc418b10-1db3-4cde-af1b-9ba3daf80729-c000.csv',sep=',')\n",
    "\n",
    "print(df.dtypes)\n",
    "print(df.iloc[1])\n",
    "df.describe().columns"
   ]
  },
  {
   "cell_type": "markdown",
   "metadata": {
    "deletable": true,
    "editable": true
   },
   "source": [
    "# Apriori using Python"
   ]
  },
  {
   "cell_type": "code",
   "execution_count": 238,
   "metadata": {
    "collapsed": false,
    "deletable": true,
    "editable": true
   },
   "outputs": [
    {
     "name": "stdout",
     "output_type": "stream",
     "text": [
      "[ 9 15 15 ...,  2  2  2] ['Sacramento' 'Seattle' 'Seattle' ..., 'Las Vegas' 'Las Vegas' 'Las Vegas']\n"
     ]
    }
   ],
   "source": [
    "# changeColNames=dict(enumerate(df.columns))\n",
    "\n",
    "leCols=LabelEncoder()\n",
    "leCols.fit_transform(df.columns)\n",
    "leCity=LabelEncoder()\n",
    "leCity.fit_transform(df.City.values)\n",
    "# encodes all non numerical variables, mind that would be useful when justifying rules assoc.\n",
    "df[df.columns.difference(df.describe().columns)]=df[df.columns.difference(df.describe().columns)].apply(LabelEncoder().fit_transform)\n",
    "\n",
    "print(df.City.values,leCity.inverse_transform(df.City.values))\n",
    "\n",
    "df.head()"
   ]
  },
  {
   "cell_type": "markdown",
   "metadata": {},
   "source": [
    "# Apriori by Stores, States, City, Food & Flavour"
   ]
  },
  {
   "cell_type": "code",
   "execution_count": null,
   "metadata": {
    "collapsed": false,
    "deletable": true,
    "editable": true
   },
   "outputs": [],
   "source": [
    "def getRules(dfFilt):\n",
    "    frequent_itemsets = apriori(dfFilt, use_colnames=True)\n",
    "    frequent_itemsets['length'] = frequent_itemsets['itemsets'].apply(lambda x: len(x))\n",
    "    return frequent_itemsets[ (frequent_itemsets['length'] > 1) & (frequent_itemsets['support'] >= 0.8)]\n",
    "\n",
    "\n",
    "def rulesByStore(stores):\n",
    "    global df\n",
    "    result={}\n",
    "    for store in stores:\n",
    "#         print(i)\n",
    "        dfFilt=df[df['StoreNum']==store]\n",
    "        result[store]=getRules(dfFilt)\n",
    "    return result\n",
    "\n",
    "def rulesByState(states):\n",
    "    global df\n",
    "    result={}\n",
    "    for state in states:\n",
    "        dfFilt=df[df['State']==state]\n",
    "        result[state]=getRules(dfFilt)\n",
    "    return result\n",
    "\n",
    "def rulesByCity(cities):\n",
    "    global df\n",
    "    result={}\n",
    "    for city in cities:\n",
    "        dfFilt=df[df['City']==city]\n",
    "        result[city]=getRules(dfFilt)\n",
    "    return result\n",
    "def rulesByFood(foods):\n",
    "    global df\n",
    "    result={}\n",
    "    for food in foods:\n",
    "        dfFilt=df[df['Food']==food]\n",
    "        result[food]=getRules(dfFilt)\n",
    "    return result\n",
    "\n",
    "# results=rulesByStore([1,2])\n",
    "results=rulesByStore(df.StoreNum.unique())\n",
    "for i in results.keys():\n",
    "    print(i,tabulate(results[i], headers='keys', tablefmt='psql'))"
   ]
  },
  {
   "cell_type": "code",
   "execution_count": 56,
   "metadata": {
    "collapsed": false,
    "deletable": true,
    "editable": true
   },
   "outputs": [
    {
     "data": {
      "text/plain": [
       "Index(['StoreNum', 'Last', 'First', 'HireDate', 'FireDate', 'Position',\n",
       "       'FullTime', 'EmpId', 'City', 'State', 'Zip', 'Street', 'ReceiptNumber',\n",
       "       'SaleDate', 'Weekend', 'isCash', 'Receipt', 'Quantity', 'Item', 'Id',\n",
       "       'Flavor', 'Food', 'Price', 'Type'],\n",
       "      dtype='object')"
      ]
     },
     "execution_count": 56,
     "metadata": {},
     "output_type": "execute_result"
    }
   ],
   "source": [
    "df['Position']=df['Position'].apply(lambda x: x.replace(' ',''))\n",
    "df['City']=df['City'].apply(lambda x: x.replace(' ',''))\n",
    "df['Street']=df['Street'].apply(lambda x: x.replace(' ',''))\n",
    "# df=df.drop('ReceiptNumber',1)\n",
    "df.columns"
   ]
  }
 ],
 "metadata": {
  "kernelspec": {
   "display_name": "Python 3",
   "language": "python",
   "name": "python3"
  },
  "language_info": {
   "codemirror_mode": {
    "name": "ipython",
    "version": 3
   },
   "file_extension": ".py",
   "mimetype": "text/x-python",
   "name": "python",
   "nbconvert_exporter": "python",
   "pygments_lexer": "ipython3",
   "version": "3.5.2"
  }
 },
 "nbformat": 4,
 "nbformat_minor": 2
}
