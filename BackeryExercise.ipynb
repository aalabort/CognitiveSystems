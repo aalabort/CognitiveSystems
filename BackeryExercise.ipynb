{
 "cells": [
  {
   "cell_type": "markdown",
   "metadata": {},
   "source": [
    "**Submitted by:**\n",
    "\n",
    "   *Arnau Alabort*\n",
    "   \n",
    "   *Álvaro Gallego*"
   ]
  },
  {
   "cell_type": "markdown",
   "metadata": {},
   "source": []
  },
  {
   "cell_type": "code",
   "execution_count": 135,
   "metadata": {
    "scrolled": true
   },
   "outputs": [],
   "source": [
    "library(arules)\n",
    "library(arulesViz)\n",
    "library(plyr)"
   ]
  },
  {
   "cell_type": "code",
   "execution_count": 136,
   "metadata": {},
   "outputs": [],
   "source": [
    "id <- c(0:49)\n",
    "food <- c(\"Chocolate Cake\",\"Lemon Cake\",\"Casino Cake\",\"Opera Cake\", \"Strawberry Cake\", \"Truffle Cake\", \"Chocolate Eclair\", \"Coffee Eclair\", \"Vanilla Eclair\", \"Napolean Cake\", \"Almond Tart\", \"Apple Pie\", \"Apple Tart\",\"Apricot Tart\", \"Berry Tart\", \"Blackberry Tart\", \"Blueberry Tart\", \"Chocolate Tart\", \"Cherry Tart\", \"Lemon Tart\", \"Pecan Tart\", \"Ganache Cookie\", \"Gongolais Cookie\", \"Raspberry Cookie\", \"Lemon Cookie\", \"Chocolate Meringue\", \"Vanilla Meringue\", \"Marzipan Cookie\", \"Tuile Cookie\", \"Walnut Cookie\", \"Almond Croissant\", \"Apple Croissant\", \"Apricot Croissant\", \"Cheese Croissant\", \"Chocolate Croissant\", \"Apricot Danish\", \"Apple Danish\", \"Almond Twist\", \"Almond Bear_Claw\", \"Blueberry Danish\", \"Lemon Lemonade\", \"Raspberry Lemonade\", \"Orange Juice\", \"Green Tea\", \"Bottled Water\", \"Hot Coffee\", \"Chocolate Coffee\", \"Vanilla Frappucino\", \"Cherry Soda\", \"Single Espresso\")\n",
    "\n",
    "df <- data.frame(id, food)\n"
   ]
  },
  {
   "cell_type": "code",
   "execution_count": 137,
   "metadata": {},
   "outputs": [
    {
     "data": {
      "text/html": [
       "<table>\n",
       "<thead><tr><th scope=col>id</th><th scope=col>food</th></tr></thead>\n",
       "<tbody>\n",
       "\t<tr><td>0              </td><td>Chocolate Cake </td></tr>\n",
       "\t<tr><td>1              </td><td>Lemon Cake     </td></tr>\n",
       "\t<tr><td>2              </td><td>Casino Cake    </td></tr>\n",
       "\t<tr><td>3              </td><td>Opera Cake     </td></tr>\n",
       "\t<tr><td>4              </td><td>Strawberry Cake</td></tr>\n",
       "\t<tr><td>5              </td><td>Truffle Cake   </td></tr>\n",
       "</tbody>\n",
       "</table>\n"
      ],
      "text/latex": [
       "\\begin{tabular}{r|ll}\n",
       " id & food\\\\\n",
       "\\hline\n",
       "\t 0               & Chocolate Cake \\\\\n",
       "\t 1               & Lemon Cake     \\\\\n",
       "\t 2               & Casino Cake    \\\\\n",
       "\t 3               & Opera Cake     \\\\\n",
       "\t 4               & Strawberry Cake\\\\\n",
       "\t 5               & Truffle Cake   \\\\\n",
       "\\end{tabular}\n"
      ],
      "text/markdown": [
       "\n",
       "id | food | \n",
       "|---|---|---|---|---|---|\n",
       "| 0               | Chocolate Cake  | \n",
       "| 1               | Lemon Cake      | \n",
       "| 2               | Casino Cake     | \n",
       "| 3               | Opera Cake      | \n",
       "| 4               | Strawberry Cake | \n",
       "| 5               | Truffle Cake    | \n",
       "\n",
       "\n"
      ],
      "text/plain": [
       "  id food           \n",
       "1 0  Chocolate Cake \n",
       "2 1  Lemon Cake     \n",
       "3 2  Casino Cake    \n",
       "4 3  Opera Cake     \n",
       "5 4  Strawberry Cake\n",
       "6 5  Truffle Cake   "
      ]
     },
     "metadata": {},
     "output_type": "display_data"
    }
   ],
   "source": [
    "head(df)"
   ]
  },
  {
   "cell_type": "code",
   "execution_count": 138,
   "metadata": {},
   "outputs": [],
   "source": [
    "backery = read.table('backery_1000.csv',header = FALSE,col.names = c('trans',food),sep = ',')"
   ]
  },
  {
   "cell_type": "code",
   "execution_count": 139,
   "metadata": {},
   "outputs": [
    {
     "data": {
      "text/html": [
       "<table>\n",
       "<thead><tr><th scope=col>trans</th><th scope=col>Chocolate.Cake</th><th scope=col>Lemon.Cake</th><th scope=col>Casino.Cake</th><th scope=col>Opera.Cake</th><th scope=col>Strawberry.Cake</th><th scope=col>Truffle.Cake</th><th scope=col>Chocolate.Eclair</th><th scope=col>Coffee.Eclair</th><th scope=col>Vanilla.Eclair</th><th scope=col>⋯</th><th scope=col>Lemon.Lemonade</th><th scope=col>Raspberry.Lemonade</th><th scope=col>Orange.Juice</th><th scope=col>Green.Tea</th><th scope=col>Bottled.Water</th><th scope=col>Hot.Coffee</th><th scope=col>Chocolate.Coffee</th><th scope=col>Vanilla.Frappucino</th><th scope=col>Cherry.Soda</th><th scope=col>Single.Espresso</th></tr></thead>\n",
       "<tbody>\n",
       "\t<tr><td>1</td><td>0</td><td>0</td><td>0</td><td>0</td><td>0</td><td>0</td><td>0</td><td>1</td><td>0</td><td>⋯</td><td>0</td><td>0</td><td>0</td><td>0</td><td>1</td><td>0</td><td>0</td><td>0</td><td>0</td><td>1</td></tr>\n",
       "\t<tr><td>2</td><td>0</td><td>1</td><td>0</td><td>0</td><td>0</td><td>0</td><td>0</td><td>0</td><td>0</td><td>⋯</td><td>0</td><td>0</td><td>0</td><td>0</td><td>0</td><td>0</td><td>0</td><td>0</td><td>0</td><td>0</td></tr>\n",
       "\t<tr><td>3</td><td>0</td><td>1</td><td>0</td><td>0</td><td>0</td><td>0</td><td>0</td><td>0</td><td>0</td><td>⋯</td><td>0</td><td>0</td><td>0</td><td>0</td><td>0</td><td>0</td><td>0</td><td>0</td><td>0</td><td>0</td></tr>\n",
       "\t<tr><td>4</td><td>0</td><td>0</td><td>0</td><td>1</td><td>1</td><td>0</td><td>0</td><td>0</td><td>0</td><td>⋯</td><td>0</td><td>0</td><td>0</td><td>0</td><td>1</td><td>0</td><td>0</td><td>0</td><td>0</td><td>0</td></tr>\n",
       "\t<tr><td>5</td><td>0</td><td>0</td><td>1</td><td>0</td><td>1</td><td>0</td><td>0</td><td>1</td><td>0</td><td>⋯</td><td>0</td><td>0</td><td>0</td><td>0</td><td>0</td><td>0</td><td>0</td><td>0</td><td>0</td><td>0</td></tr>\n",
       "\t<tr><td>6</td><td>0</td><td>0</td><td>0</td><td>0</td><td>0</td><td>0</td><td>0</td><td>0</td><td>0</td><td>⋯</td><td>0</td><td>0</td><td>0</td><td>0</td><td>1</td><td>0</td><td>0</td><td>0</td><td>0</td><td>0</td></tr>\n",
       "</tbody>\n",
       "</table>\n"
      ],
      "text/latex": [
       "\\begin{tabular}{r|lllllllllllllllllllllllllllllllllllllllllllllllllll}\n",
       " trans & Chocolate.Cake & Lemon.Cake & Casino.Cake & Opera.Cake & Strawberry.Cake & Truffle.Cake & Chocolate.Eclair & Coffee.Eclair & Vanilla.Eclair & ⋯ & Lemon.Lemonade & Raspberry.Lemonade & Orange.Juice & Green.Tea & Bottled.Water & Hot.Coffee & Chocolate.Coffee & Vanilla.Frappucino & Cherry.Soda & Single.Espresso\\\\\n",
       "\\hline\n",
       "\t 1 & 0 & 0 & 0 & 0 & 0 & 0 & 0 & 1 & 0 & ⋯ & 0 & 0 & 0 & 0 & 1 & 0 & 0 & 0 & 0 & 1\\\\\n",
       "\t 2 & 0 & 1 & 0 & 0 & 0 & 0 & 0 & 0 & 0 & ⋯ & 0 & 0 & 0 & 0 & 0 & 0 & 0 & 0 & 0 & 0\\\\\n",
       "\t 3 & 0 & 1 & 0 & 0 & 0 & 0 & 0 & 0 & 0 & ⋯ & 0 & 0 & 0 & 0 & 0 & 0 & 0 & 0 & 0 & 0\\\\\n",
       "\t 4 & 0 & 0 & 0 & 1 & 1 & 0 & 0 & 0 & 0 & ⋯ & 0 & 0 & 0 & 0 & 1 & 0 & 0 & 0 & 0 & 0\\\\\n",
       "\t 5 & 0 & 0 & 1 & 0 & 1 & 0 & 0 & 1 & 0 & ⋯ & 0 & 0 & 0 & 0 & 0 & 0 & 0 & 0 & 0 & 0\\\\\n",
       "\t 6 & 0 & 0 & 0 & 0 & 0 & 0 & 0 & 0 & 0 & ⋯ & 0 & 0 & 0 & 0 & 1 & 0 & 0 & 0 & 0 & 0\\\\\n",
       "\\end{tabular}\n"
      ],
      "text/markdown": [
       "\n",
       "trans | Chocolate.Cake | Lemon.Cake | Casino.Cake | Opera.Cake | Strawberry.Cake | Truffle.Cake | Chocolate.Eclair | Coffee.Eclair | Vanilla.Eclair | ⋯ | Lemon.Lemonade | Raspberry.Lemonade | Orange.Juice | Green.Tea | Bottled.Water | Hot.Coffee | Chocolate.Coffee | Vanilla.Frappucino | Cherry.Soda | Single.Espresso | \n",
       "|---|---|---|---|---|---|\n",
       "| 1 | 0 | 0 | 0 | 0 | 0 | 0 | 0 | 1 | 0 | ⋯ | 0 | 0 | 0 | 0 | 1 | 0 | 0 | 0 | 0 | 1 | \n",
       "| 2 | 0 | 1 | 0 | 0 | 0 | 0 | 0 | 0 | 0 | ⋯ | 0 | 0 | 0 | 0 | 0 | 0 | 0 | 0 | 0 | 0 | \n",
       "| 3 | 0 | 1 | 0 | 0 | 0 | 0 | 0 | 0 | 0 | ⋯ | 0 | 0 | 0 | 0 | 0 | 0 | 0 | 0 | 0 | 0 | \n",
       "| 4 | 0 | 0 | 0 | 1 | 1 | 0 | 0 | 0 | 0 | ⋯ | 0 | 0 | 0 | 0 | 1 | 0 | 0 | 0 | 0 | 0 | \n",
       "| 5 | 0 | 0 | 1 | 0 | 1 | 0 | 0 | 1 | 0 | ⋯ | 0 | 0 | 0 | 0 | 0 | 0 | 0 | 0 | 0 | 0 | \n",
       "| 6 | 0 | 0 | 0 | 0 | 0 | 0 | 0 | 0 | 0 | ⋯ | 0 | 0 | 0 | 0 | 1 | 0 | 0 | 0 | 0 | 0 | \n",
       "\n",
       "\n"
      ],
      "text/plain": [
       "  trans Chocolate.Cake Lemon.Cake Casino.Cake Opera.Cake Strawberry.Cake\n",
       "1 1     0              0          0           0          0              \n",
       "2 2     0              1          0           0          0              \n",
       "3 3     0              1          0           0          0              \n",
       "4 4     0              0          0           1          1              \n",
       "5 5     0              0          1           0          1              \n",
       "6 6     0              0          0           0          0              \n",
       "  Truffle.Cake Chocolate.Eclair Coffee.Eclair Vanilla.Eclair ⋯ Lemon.Lemonade\n",
       "1 0            0                1             0              ⋯ 0             \n",
       "2 0            0                0             0              ⋯ 0             \n",
       "3 0            0                0             0              ⋯ 0             \n",
       "4 0            0                0             0              ⋯ 0             \n",
       "5 0            0                1             0              ⋯ 0             \n",
       "6 0            0                0             0              ⋯ 0             \n",
       "  Raspberry.Lemonade Orange.Juice Green.Tea Bottled.Water Hot.Coffee\n",
       "1 0                  0            0         1             0         \n",
       "2 0                  0            0         0             0         \n",
       "3 0                  0            0         0             0         \n",
       "4 0                  0            0         1             0         \n",
       "5 0                  0            0         0             0         \n",
       "6 0                  0            0         1             0         \n",
       "  Chocolate.Coffee Vanilla.Frappucino Cherry.Soda Single.Espresso\n",
       "1 0                0                  0           1              \n",
       "2 0                0                  0           0              \n",
       "3 0                0                  0           0              \n",
       "4 0                0                  0           0              \n",
       "5 0                0                  0           0              \n",
       "6 0                0                  0           0              "
      ]
     },
     "metadata": {},
     "output_type": "display_data"
    }
   ],
   "source": [
    "head(backery)"
   ]
  },
  {
   "cell_type": "code",
   "execution_count": 140,
   "metadata": {},
   "outputs": [],
   "source": [
    "backery[,2:51] <- ifelse(backery[,2:51] == 0, FALSE, TRUE)"
   ]
  },
  {
   "cell_type": "code",
   "execution_count": 141,
   "metadata": {},
   "outputs": [
    {
     "data": {
      "text/html": [
       "<table>\n",
       "<thead><tr><th scope=col>trans</th><th scope=col>Chocolate.Cake</th><th scope=col>Lemon.Cake</th><th scope=col>Casino.Cake</th><th scope=col>Opera.Cake</th><th scope=col>Strawberry.Cake</th><th scope=col>Truffle.Cake</th><th scope=col>Chocolate.Eclair</th><th scope=col>Coffee.Eclair</th><th scope=col>Vanilla.Eclair</th><th scope=col>⋯</th><th scope=col>Lemon.Lemonade</th><th scope=col>Raspberry.Lemonade</th><th scope=col>Orange.Juice</th><th scope=col>Green.Tea</th><th scope=col>Bottled.Water</th><th scope=col>Hot.Coffee</th><th scope=col>Chocolate.Coffee</th><th scope=col>Vanilla.Frappucino</th><th scope=col>Cherry.Soda</th><th scope=col>Single.Espresso</th></tr></thead>\n",
       "<tbody>\n",
       "\t<tr><td>1    </td><td>FALSE</td><td>FALSE</td><td>FALSE</td><td>FALSE</td><td>FALSE</td><td>FALSE</td><td>FALSE</td><td> TRUE</td><td>FALSE</td><td>⋯    </td><td>FALSE</td><td>FALSE</td><td>FALSE</td><td>FALSE</td><td> TRUE</td><td>FALSE</td><td>FALSE</td><td>FALSE</td><td>FALSE</td><td> TRUE</td></tr>\n",
       "\t<tr><td>2    </td><td>FALSE</td><td> TRUE</td><td>FALSE</td><td>FALSE</td><td>FALSE</td><td>FALSE</td><td>FALSE</td><td>FALSE</td><td>FALSE</td><td>⋯    </td><td>FALSE</td><td>FALSE</td><td>FALSE</td><td>FALSE</td><td>FALSE</td><td>FALSE</td><td>FALSE</td><td>FALSE</td><td>FALSE</td><td>FALSE</td></tr>\n",
       "\t<tr><td>3    </td><td>FALSE</td><td> TRUE</td><td>FALSE</td><td>FALSE</td><td>FALSE</td><td>FALSE</td><td>FALSE</td><td>FALSE</td><td>FALSE</td><td>⋯    </td><td>FALSE</td><td>FALSE</td><td>FALSE</td><td>FALSE</td><td>FALSE</td><td>FALSE</td><td>FALSE</td><td>FALSE</td><td>FALSE</td><td>FALSE</td></tr>\n",
       "\t<tr><td>4    </td><td>FALSE</td><td>FALSE</td><td>FALSE</td><td> TRUE</td><td> TRUE</td><td>FALSE</td><td>FALSE</td><td>FALSE</td><td>FALSE</td><td>⋯    </td><td>FALSE</td><td>FALSE</td><td>FALSE</td><td>FALSE</td><td> TRUE</td><td>FALSE</td><td>FALSE</td><td>FALSE</td><td>FALSE</td><td>FALSE</td></tr>\n",
       "\t<tr><td>5    </td><td>FALSE</td><td>FALSE</td><td> TRUE</td><td>FALSE</td><td> TRUE</td><td>FALSE</td><td>FALSE</td><td> TRUE</td><td>FALSE</td><td>⋯    </td><td>FALSE</td><td>FALSE</td><td>FALSE</td><td>FALSE</td><td>FALSE</td><td>FALSE</td><td>FALSE</td><td>FALSE</td><td>FALSE</td><td>FALSE</td></tr>\n",
       "\t<tr><td>6    </td><td>FALSE</td><td>FALSE</td><td>FALSE</td><td>FALSE</td><td>FALSE</td><td>FALSE</td><td>FALSE</td><td>FALSE</td><td>FALSE</td><td>⋯    </td><td>FALSE</td><td>FALSE</td><td>FALSE</td><td>FALSE</td><td> TRUE</td><td>FALSE</td><td>FALSE</td><td>FALSE</td><td>FALSE</td><td>FALSE</td></tr>\n",
       "</tbody>\n",
       "</table>\n"
      ],
      "text/latex": [
       "\\begin{tabular}{r|lllllllllllllllllllllllllllllllllllllllllllllllllll}\n",
       " trans & Chocolate.Cake & Lemon.Cake & Casino.Cake & Opera.Cake & Strawberry.Cake & Truffle.Cake & Chocolate.Eclair & Coffee.Eclair & Vanilla.Eclair & ⋯ & Lemon.Lemonade & Raspberry.Lemonade & Orange.Juice & Green.Tea & Bottled.Water & Hot.Coffee & Chocolate.Coffee & Vanilla.Frappucino & Cherry.Soda & Single.Espresso\\\\\n",
       "\\hline\n",
       "\t 1     & FALSE & FALSE & FALSE & FALSE & FALSE & FALSE & FALSE &  TRUE & FALSE & ⋯     & FALSE & FALSE & FALSE & FALSE &  TRUE & FALSE & FALSE & FALSE & FALSE &  TRUE\\\\\n",
       "\t 2     & FALSE &  TRUE & FALSE & FALSE & FALSE & FALSE & FALSE & FALSE & FALSE & ⋯     & FALSE & FALSE & FALSE & FALSE & FALSE & FALSE & FALSE & FALSE & FALSE & FALSE\\\\\n",
       "\t 3     & FALSE &  TRUE & FALSE & FALSE & FALSE & FALSE & FALSE & FALSE & FALSE & ⋯     & FALSE & FALSE & FALSE & FALSE & FALSE & FALSE & FALSE & FALSE & FALSE & FALSE\\\\\n",
       "\t 4     & FALSE & FALSE & FALSE &  TRUE &  TRUE & FALSE & FALSE & FALSE & FALSE & ⋯     & FALSE & FALSE & FALSE & FALSE &  TRUE & FALSE & FALSE & FALSE & FALSE & FALSE\\\\\n",
       "\t 5     & FALSE & FALSE &  TRUE & FALSE &  TRUE & FALSE & FALSE &  TRUE & FALSE & ⋯     & FALSE & FALSE & FALSE & FALSE & FALSE & FALSE & FALSE & FALSE & FALSE & FALSE\\\\\n",
       "\t 6     & FALSE & FALSE & FALSE & FALSE & FALSE & FALSE & FALSE & FALSE & FALSE & ⋯     & FALSE & FALSE & FALSE & FALSE &  TRUE & FALSE & FALSE & FALSE & FALSE & FALSE\\\\\n",
       "\\end{tabular}\n"
      ],
      "text/markdown": [
       "\n",
       "trans | Chocolate.Cake | Lemon.Cake | Casino.Cake | Opera.Cake | Strawberry.Cake | Truffle.Cake | Chocolate.Eclair | Coffee.Eclair | Vanilla.Eclair | ⋯ | Lemon.Lemonade | Raspberry.Lemonade | Orange.Juice | Green.Tea | Bottled.Water | Hot.Coffee | Chocolate.Coffee | Vanilla.Frappucino | Cherry.Soda | Single.Espresso | \n",
       "|---|---|---|---|---|---|\n",
       "| 1     | FALSE | FALSE | FALSE | FALSE | FALSE | FALSE | FALSE |  TRUE | FALSE | ⋯     | FALSE | FALSE | FALSE | FALSE |  TRUE | FALSE | FALSE | FALSE | FALSE |  TRUE | \n",
       "| 2     | FALSE |  TRUE | FALSE | FALSE | FALSE | FALSE | FALSE | FALSE | FALSE | ⋯     | FALSE | FALSE | FALSE | FALSE | FALSE | FALSE | FALSE | FALSE | FALSE | FALSE | \n",
       "| 3     | FALSE |  TRUE | FALSE | FALSE | FALSE | FALSE | FALSE | FALSE | FALSE | ⋯     | FALSE | FALSE | FALSE | FALSE | FALSE | FALSE | FALSE | FALSE | FALSE | FALSE | \n",
       "| 4     | FALSE | FALSE | FALSE |  TRUE |  TRUE | FALSE | FALSE | FALSE | FALSE | ⋯     | FALSE | FALSE | FALSE | FALSE |  TRUE | FALSE | FALSE | FALSE | FALSE | FALSE | \n",
       "| 5     | FALSE | FALSE |  TRUE | FALSE |  TRUE | FALSE | FALSE |  TRUE | FALSE | ⋯     | FALSE | FALSE | FALSE | FALSE | FALSE | FALSE | FALSE | FALSE | FALSE | FALSE | \n",
       "| 6     | FALSE | FALSE | FALSE | FALSE | FALSE | FALSE | FALSE | FALSE | FALSE | ⋯     | FALSE | FALSE | FALSE | FALSE |  TRUE | FALSE | FALSE | FALSE | FALSE | FALSE | \n",
       "\n",
       "\n"
      ],
      "text/plain": [
       "  trans Chocolate.Cake Lemon.Cake Casino.Cake Opera.Cake Strawberry.Cake\n",
       "1 1     FALSE          FALSE      FALSE       FALSE      FALSE          \n",
       "2 2     FALSE           TRUE      FALSE       FALSE      FALSE          \n",
       "3 3     FALSE           TRUE      FALSE       FALSE      FALSE          \n",
       "4 4     FALSE          FALSE      FALSE        TRUE       TRUE          \n",
       "5 5     FALSE          FALSE       TRUE       FALSE       TRUE          \n",
       "6 6     FALSE          FALSE      FALSE       FALSE      FALSE          \n",
       "  Truffle.Cake Chocolate.Eclair Coffee.Eclair Vanilla.Eclair ⋯ Lemon.Lemonade\n",
       "1 FALSE        FALSE             TRUE         FALSE          ⋯ FALSE         \n",
       "2 FALSE        FALSE            FALSE         FALSE          ⋯ FALSE         \n",
       "3 FALSE        FALSE            FALSE         FALSE          ⋯ FALSE         \n",
       "4 FALSE        FALSE            FALSE         FALSE          ⋯ FALSE         \n",
       "5 FALSE        FALSE             TRUE         FALSE          ⋯ FALSE         \n",
       "6 FALSE        FALSE            FALSE         FALSE          ⋯ FALSE         \n",
       "  Raspberry.Lemonade Orange.Juice Green.Tea Bottled.Water Hot.Coffee\n",
       "1 FALSE              FALSE        FALSE      TRUE         FALSE     \n",
       "2 FALSE              FALSE        FALSE     FALSE         FALSE     \n",
       "3 FALSE              FALSE        FALSE     FALSE         FALSE     \n",
       "4 FALSE              FALSE        FALSE      TRUE         FALSE     \n",
       "5 FALSE              FALSE        FALSE     FALSE         FALSE     \n",
       "6 FALSE              FALSE        FALSE      TRUE         FALSE     \n",
       "  Chocolate.Coffee Vanilla.Frappucino Cherry.Soda Single.Espresso\n",
       "1 FALSE            FALSE              FALSE        TRUE          \n",
       "2 FALSE            FALSE              FALSE       FALSE          \n",
       "3 FALSE            FALSE              FALSE       FALSE          \n",
       "4 FALSE            FALSE              FALSE       FALSE          \n",
       "5 FALSE            FALSE              FALSE       FALSE          \n",
       "6 FALSE            FALSE              FALSE       FALSE          "
      ]
     },
     "metadata": {},
     "output_type": "display_data"
    }
   ],
   "source": [
    "head(backery)"
   ]
  },
  {
   "cell_type": "code",
   "execution_count": 142,
   "metadata": {},
   "outputs": [],
   "source": [
    "backery = backery[-1]"
   ]
  },
  {
   "cell_type": "code",
   "execution_count": 143,
   "metadata": {},
   "outputs": [],
   "source": [
    "tran = as(backery, 'transactions')"
   ]
  },
  {
   "cell_type": "code",
   "execution_count": 144,
   "metadata": {},
   "outputs": [
    {
     "data": {
      "text/plain": [
       "transactions in sparse format with\n",
       " 1000 transactions (rows) and\n",
       " 50 items (columns)"
      ]
     },
     "metadata": {},
     "output_type": "display_data"
    }
   ],
   "source": [
    "tran"
   ]
  },
  {
   "cell_type": "code",
   "execution_count": 145,
   "metadata": {},
   "outputs": [
    {
     "data": {
      "image/png": "[encoded data removed]",
      "text/plain": [
       "plot without title"
      ]
     },
     "metadata": {},
     "output_type": "display_data"
    }
   ],
   "source": [
    "library(repr)\n",
    "\n",
    "# Change plot size to 4 x 3\n",
    "options(repr.plot.width=10, repr.plot.height=5)\n",
    "itemFrequencyPlot(tran, topN = 20)"
   ]
  },
  {
   "cell_type": "code",
   "execution_count": 146,
   "metadata": {},
   "outputs": [
    {
     "name": "stdout",
     "output_type": "stream",
     "text": [
      "    items              transactionID\n",
      "[1] {Coffee.Eclair,                 \n",
      "     Blackberry.Tart,               \n",
      "     Bottled.Water,                 \n",
      "     Single.Espresso}              1\n",
      "[2] {Lemon.Cake,                    \n",
      "     Lemon.Tart}                   2\n",
      "[3] {Lemon.Cake,                    \n",
      "     Lemon.Tart}                   3\n",
      "[4] {Opera.Cake,                    \n",
      "     Strawberry.Cake,               \n",
      "     Blackberry.Tart,               \n",
      "     Cherry.Tart,                   \n",
      "     Apricot.Danish,                \n",
      "     Bottled.Water}                4\n",
      "[5] {Casino.Cake,                   \n",
      "     Strawberry.Cake,               \n",
      "     Coffee.Eclair,                 \n",
      "     Napolean.Cake,                 \n",
      "     Raspberry.Cookie}             5\n"
     ]
    }
   ],
   "source": [
    "inspect(tran[1:5])"
   ]
  },
  {
   "cell_type": "code",
   "execution_count": 147,
   "metadata": {
    "scrolled": true
   },
   "outputs": [
    {
     "name": "stdout",
     "output_type": "stream",
     "text": [
      "Apriori\n",
      "\n",
      "Parameter specification:\n",
      " confidence minval smax arem  aval originalSupport maxtime support minlen\n",
      "        0.9    0.1    1 none FALSE            TRUE       5    0.01      1\n",
      " maxlen target   ext\n",
      "     10  rules FALSE\n",
      "\n",
      "Algorithmic control:\n",
      " filter tree heap memopt load sort verbose\n",
      "    0.1 TRUE TRUE  FALSE TRUE    2    TRUE\n",
      "\n",
      "Absolute minimum support count: 10 \n",
      "\n",
      "set item appearances ...[0 item(s)] done [0.00s].\n",
      "set transactions ...[50 item(s), 1000 transaction(s)] done [0.00s].\n",
      "sorting and recoding items ... [50 item(s)] done [0.00s].\n",
      "creating transaction tree ... done [0.00s].\n",
      "checking subsets of size 1 2 3 4 5 done [0.00s].\n",
      "writing ... [68 rule(s)] done [0.00s].\n",
      "creating S4 object  ... done [0.00s].\n"
     ]
    }
   ],
   "source": [
    "backery_rules <- apriori(tran,parameter = list(sup = 0.01, conf = 0.90,target=\"rules\"))"
   ]
  },
  {
   "cell_type": "code",
   "execution_count": 148,
   "metadata": {
    "scrolled": true
   },
   "outputs": [
    {
     "data": {
      "text/plain": [
       "set of 68 rules\n",
       "\n",
       "rule length distribution (lhs + rhs):sizes\n",
       " 3  4  5 \n",
       "42 22  4 \n",
       "\n",
       "   Min. 1st Qu.  Median    Mean 3rd Qu.    Max. \n",
       "  3.000   3.000   3.000   3.441   4.000   5.000 \n",
       "\n",
       "summary of quality measures:\n",
       "    support          confidence          lift           count      \n",
       " Min.   :0.01800   Min.   :0.9000   Min.   :10.01   Min.   :18.00  \n",
       " 1st Qu.:0.01900   1st Qu.:0.9394   1st Qu.:11.87   1st Qu.:19.00  \n",
       " Median :0.02400   Median :0.9661   Median :13.16   Median :24.00  \n",
       " Mean   :0.02538   Mean   :0.9661   Mean   :13.10   Mean   :25.38  \n",
       " 3rd Qu.:0.02900   3rd Qu.:1.0000   3rd Qu.:14.39   3rd Qu.:29.00  \n",
       " Max.   :0.04000   Max.   :1.0000   Max.   :19.61   Max.   :40.00  \n",
       "\n",
       "mining info:\n",
       " data ntransactions support confidence\n",
       " tran          1000    0.01        0.9"
      ]
     },
     "metadata": {},
     "output_type": "display_data"
    }
   ],
   "source": [
    "summary(backery_rules)"
   ]
  },
  {
   "cell_type": "markdown",
   "metadata": {},
   "source": [
    "# Evaluate model"
   ]
  },
  {
   "cell_type": "code",
   "execution_count": 149,
   "metadata": {},
   "outputs": [
    {
     "name": "stdout",
     "output_type": "stream",
     "text": [
      "    lhs                                   rhs                  support\n",
      "[1] {Chocolate.Tart,Walnut.Cookie}     => {Vanilla.Frappucino} 0.018  \n",
      "[2] {Walnut.Cookie,Vanilla.Frappucino} => {Chocolate.Tart}     0.018  \n",
      "[3] {Blackberry.Tart,Single.Espresso}  => {Coffee.Eclair}      0.023  \n",
      "    confidence lift     count\n",
      "[1] 1.0000000  13.51351 18   \n",
      "[2] 1.0000000  19.60784 18   \n",
      "[3] 0.9583333  10.30466 23   \n"
     ]
    }
   ],
   "source": [
    "# look at the first three rules\n",
    "inspect(backery_rules[1:3])"
   ]
  },
  {
   "cell_type": "markdown",
   "metadata": {},
   "source": [
    "# Lift\n",
    "The lift is defined as the likelihood of the itemset Ybeing purchased when item X is purchased while taking into account the popularity of  Y.If the value of lift is greater than 1, it means that the itemset Y is likely to be bought with itemset X, while a value less than 1 implies that itemset Y is unlikely to be bought if the itemset X is bought."
   ]
  },
  {
   "cell_type": "code",
   "execution_count": 150,
   "metadata": {},
   "outputs": [
    {
     "name": "stdout",
     "output_type": "stream",
     "text": [
      "    lhs                     rhs              support confidence     lift count\n",
      "[1] {Walnut.Cookie,                                                           \n",
      "     Vanilla.Frappucino} => {Chocolate.Tart}   0.018          1 19.60784    18\n",
      "[2] {Coffee.Eclair,                                                           \n",
      "     Apple.Pie,                                                               \n",
      "     Hot.Coffee}         => {Almond.Twist}     0.024          1 15.38462    24\n",
      "[3] {Raspberry.Cookie,                                                        \n",
      "     Raspberry.Lemonade} => {Lemon.Cookie}     0.029          1 15.15152    29\n",
      "[4] {Lemon.Lemonade,                                                          \n",
      "     Raspberry.Lemonade,                                                      \n",
      "     Green.Tea}          => {Lemon.Cookie}     0.019          1 15.15152    19\n",
      "[5] {Lemon.Cookie,                                                            \n",
      "     Raspberry.Lemonade,                                                      \n",
      "     Green.Tea}          => {Lemon.Lemonade}   0.019          1 15.15152    19\n"
     ]
    }
   ],
   "source": [
    "# sorting backery rules by lift\n",
    "main_rules_backeryrules = inspect(sort(backery_rules, by = \"lift\")[1:5])"
   ]
  },
  {
   "cell_type": "code",
   "execution_count": 151,
   "metadata": {},
   "outputs": [
    {
     "name": "stdout",
     "output_type": "stream",
     "text": [
      "Apriori\n",
      "\n",
      "Parameter specification:\n",
      " confidence minval smax arem  aval originalSupport maxtime support minlen\n",
      "        0.9    0.1    1 none FALSE            TRUE       5     0.1      1\n",
      " maxlen target   ext\n",
      "     10  rules FALSE\n",
      "\n",
      "Algorithmic control:\n",
      " filter tree heap memopt load sort verbose\n",
      "    0.1 TRUE TRUE  FALSE TRUE    2    TRUE\n",
      "\n",
      "Absolute minimum support count: 100 \n",
      "\n",
      "set item appearances ...[0 item(s)] done [0.00s].\n",
      "set transactions ...[50 item(s), 1000 transaction(s)] done [0.00s].\n",
      "sorting and recoding items ... [3 item(s)] done [0.00s].\n",
      "creating transaction tree ... done [0.00s].\n",
      "checking subsets of size 1 2 done [0.00s].\n",
      "writing ... [0 rule(s)] done [0.00s].\n",
      "creating S4 object  ... done [0.00s].\n"
     ]
    }
   ],
   "source": [
    "backery_rules2 <- apriori(tran,parameter = list(sup = 0.1, conf = 0.90,target=\"rules\"))"
   ]
  },
  {
   "cell_type": "code",
   "execution_count": 152,
   "metadata": {},
   "outputs": [
    {
     "data": {
      "text/plain": [
       "set of 0 rules\n"
      ]
     },
     "metadata": {},
     "output_type": "display_data"
    }
   ],
   "source": [
    "summary(backery_rules2)"
   ]
  },
  {
   "cell_type": "code",
   "execution_count": 153,
   "metadata": {},
   "outputs": [
    {
     "data": {
      "image/png": "[encoded data removed]",
      "text/plain": [
       "plot without title"
      ]
     },
     "metadata": {},
     "output_type": "display_data"
    }
   ],
   "source": [
    "options(repr.plot.width=10, repr.plot.height=5)\n",
    "plot(backery_rules)"
   ]
  },
  {
   "cell_type": "markdown",
   "metadata": {},
   "source": [
    "# We are going to preprocess the data and try to find insights separating those sells with more or less than 4 products"
   ]
  },
  {
   "cell_type": "code",
   "execution_count": 154,
   "metadata": {},
   "outputs": [
    {
     "name": "stdout",
     "output_type": "stream",
     "text": [
      "Apriori\n",
      "\n",
      "Parameter specification:\n",
      " confidence minval smax arem  aval originalSupport maxtime support minlen\n",
      "        0.9    0.1    1 none FALSE            TRUE       5    0.01      1\n",
      " maxlen target   ext\n",
      "     10  rules FALSE\n",
      "\n",
      "Algorithmic control:\n",
      " filter tree heap memopt load sort verbose\n",
      "    0.1 TRUE TRUE  FALSE TRUE    2    TRUE\n",
      "\n",
      "Absolute minimum support count: 2 \n",
      "\n",
      "set item appearances ...[0 item(s)] done [0.00s].\n",
      "set transactions ...[50 item(s), 224 transaction(s)] done [0.00s].\n",
      "sorting and recoding items ... [50 item(s)] done [0.00s].\n",
      "creating transaction tree ... done [0.00s].\n",
      "checking subsets of size 1 2 3 4 5 done [0.00s].\n",
      "writing ... [100 rule(s)] done [0.00s].\n",
      "creating S4 object  ... done [0.00s].\n"
     ]
    },
    {
     "data": {
      "text/plain": [
       "set of 100 rules "
      ]
     },
     "metadata": {},
     "output_type": "display_data"
    }
   ],
   "source": [
    "backery_trans_greater4= backery[(rowSums(backery))>4,]\n",
    "tran_greater4 = as(backery_trans_greater4, 'transactions')\n",
    "backery_rules_greater4 <- apriori(tran_greater4,parameter = list(sup = 0.01, conf = 0.90,target=\"rules\"))\n",
    "backery_rules_greater4\n"
   ]
  },
  {
   "cell_type": "code",
   "execution_count": 155,
   "metadata": {},
   "outputs": [
    {
     "name": "stdout",
     "output_type": "stream",
     "text": [
      "Apriori\n",
      "\n",
      "Parameter specification:\n",
      " confidence minval smax arem  aval originalSupport maxtime support minlen\n",
      "        0.9    0.1    1 none FALSE            TRUE       5    0.01      1\n",
      " maxlen target   ext\n",
      "     10  rules FALSE\n",
      "\n",
      "Algorithmic control:\n",
      " filter tree heap memopt load sort verbose\n",
      "    0.1 TRUE TRUE  FALSE TRUE    2    TRUE\n",
      "\n",
      "Absolute minimum support count: 5 \n",
      "\n",
      "set item appearances ...[0 item(s)] done [0.00s].\n",
      "set transactions ...[50 item(s), 560 transaction(s)] done [0.00s].\n",
      "sorting and recoding items ... [50 item(s)] done [0.00s].\n",
      "creating transaction tree ... done [0.00s].\n",
      "checking subsets of size 1 2 3 done [0.00s].\n",
      "writing ... [13 rule(s)] done [0.00s].\n",
      "creating S4 object  ... done [0.00s].\n"
     ]
    },
    {
     "data": {
      "text/plain": [
       "set of 13 rules "
      ]
     },
     "metadata": {},
     "output_type": "display_data"
    }
   ],
   "source": [
    "backery_trans_less4= backery[(rowSums(backery))<4,]\n",
    "tran_less4 = as(backery_trans_less4, 'transactions')\n",
    "backery_rules_less4 <- apriori(tran_less4,parameter = list(sup = 0.01, conf = 0.90,target=\"rules\"))\n",
    "backery_rules_less4\n"
   ]
  },
  {
   "cell_type": "code",
   "execution_count": 156,
   "metadata": {},
   "outputs": [
    {
     "name": "stdout",
     "output_type": "stream",
     "text": [
      "    lhs                     rhs                 support confidence      lift count\n",
      "[1] {Walnut.Cookie,                                                               \n",
      "     Vanilla.Frappucino} => {Chocolate.Tart} 0.01785714          1 13.176471     4\n",
      "[2] {Coffee.Eclair,                                                               \n",
      "     Almond.Twist,                                                                \n",
      "     Hot.Coffee}         => {Apple.Pie}      0.02678571          1 11.200000     6\n",
      "[3] {Cherry.Tart,                                                                 \n",
      "     Walnut.Cookie,                                                               \n",
      "     Apricot.Danish}     => {Opera.Cake}     0.01339286          1  9.739130     3\n",
      "[4] {Berry.Tart,                                                                  \n",
      "     Vanilla.Frappucino} => {Bottled.Water}  0.01339286          1  9.333333     3\n",
      "[5] {Lemon.Cake,                                                                  \n",
      "     Chocolate.Coffee}   => {Walnut.Cookie}  0.01339286          1  9.333333     3\n"
     ]
    }
   ],
   "source": [
    "main_rules_backeryrules_greater4 = inspect(sort(backery_rules_greater4, by = \"lift\")[1:5])"
   ]
  },
  {
   "cell_type": "code",
   "execution_count": 157,
   "metadata": {},
   "outputs": [
    {
     "name": "stdout",
     "output_type": "stream",
     "text": [
      "    lhs                                   rhs                  support   \n",
      "[1] {Apple.Croissant,Apple.Danish}     => {Apple.Tart}         0.01250000\n",
      "[2] {Walnut.Cookie,Vanilla.Frappucino} => {Chocolate.Tart}     0.01964286\n",
      "[3] {Apple.Tart,Apple.Danish}          => {Apple.Croissant}    0.01250000\n",
      "[4] {Chocolate.Tart,Walnut.Cookie}     => {Vanilla.Frappucino} 0.01964286\n",
      "[5] {Chocolate.Cake,Chocolate.Coffee}  => {Casino.Cake}        0.03928571\n",
      "    confidence lift     count\n",
      "[1] 1.0000000  28.00000  7   \n",
      "[2] 1.0000000  22.40000 11   \n",
      "[3] 1.0000000  20.00000  7   \n",
      "[4] 1.0000000  18.66667 11   \n",
      "[5] 0.9166667  16.04167 22   \n"
     ]
    }
   ],
   "source": [
    "main_rules_backeryrules_less4 = inspect(sort(backery_rules_less4, by = \"lift\")[1:5])"
   ]
  },
  {
   "cell_type": "code",
   "execution_count": 158,
   "metadata": {},
   "outputs": [
    {
     "name": "stdout",
     "output_type": "stream",
     "text": [
      "    lhs                     rhs              support confidence     lift count\n",
      "[1] {Walnut.Cookie,                                                           \n",
      "     Vanilla.Frappucino} => {Chocolate.Tart}   0.018          1 19.60784    18\n",
      "[2] {Coffee.Eclair,                                                           \n",
      "     Apple.Pie,                                                               \n",
      "     Hot.Coffee}         => {Almond.Twist}     0.024          1 15.38462    24\n",
      "[3] {Raspberry.Cookie,                                                        \n",
      "     Raspberry.Lemonade} => {Lemon.Cookie}     0.029          1 15.15152    29\n",
      "[4] {Lemon.Lemonade,                                                          \n",
      "     Raspberry.Lemonade,                                                      \n",
      "     Green.Tea}          => {Lemon.Cookie}     0.019          1 15.15152    19\n",
      "[5] {Lemon.Cookie,                                                            \n",
      "     Raspberry.Lemonade,                                                      \n",
      "     Green.Tea}          => {Lemon.Lemonade}   0.019          1 15.15152    19\n"
     ]
    }
   ],
   "source": [
    "main_rules_backeryrules = inspect(sort(backery_rules, by = \"lift\")[1:5])"
   ]
  },
  {
   "cell_type": "markdown",
   "metadata": {},
   "source": [
    "# Conclusion"
   ]
  },
  {
   "cell_type": "markdown",
   "metadata": {},
   "source": [
    "For the small sells we can observe that we can infer better rules  (better lift). Also, we can see that the unique common rule between both  main rules is the **{Walnut.Cookie,Vanilla.Frappucino} => {Chocolate.Tart}**,which is in fact the best rule obtained before for the whole set what can probalby means that this is a very good rule to take into acount. So one good practice for the bakery could be to sell these products in a bundle."
   ]
  },
  {
   "cell_type": "code",
   "execution_count": null,
   "metadata": {},
   "outputs": [],
   "source": []
  }
 ],
 "metadata": {
  "kernelspec": {
   "display_name": "R",
   "language": "R",
   "name": "ir"
  },
  "language_info": {
   "codemirror_mode": "r",
   "file_extension": ".r",
   "mimetype": "text/x-r-source",
   "name": "R",
   "pygments_lexer": "r",
   "version": "3.4.2"
  }
 },
 "nbformat": 4,
 "nbformat_minor": 2
}
